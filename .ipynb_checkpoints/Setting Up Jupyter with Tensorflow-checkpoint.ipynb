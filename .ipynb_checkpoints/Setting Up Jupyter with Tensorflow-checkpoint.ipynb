{
 "cells": [
  {
   "cell_type": "markdown",
   "metadata": {},
   "source": [
    "\n",
    "... install tensorflow with anaconda\n",
    "use with [jupyter notebooks](https://jupyter.readthedocs.io/en/latest/install.html#new-to-python-and-jupyter)\n",
    "\n",
    "### Environment and Setup Notes \n",
    " * We are using OSX 10.11 El Captain, and ZSH\n",
    " * **Anaconda**: Installed via GUI (Python 3.5), after installing, we needed to add the command to our `~/.zshrc` file. (Anaconda's GUI installer added this command to our previously empty `~/.bash_profile`)\n",
    " * **Tensorflow**: We [installed this for Python 3.5](https://www.tensorflow.org/versions/r0.11/get_started/os_setup.html#anaconda-installation).\n",
    " * **Jupyter**: Jupyter notebooks ship with Anaconda's environment.\n",
    "\n",
    "#### Further notes\n",
    "\n",
    "For conda to work we had to skip any weird pip installing tensorflow, and stick with just the conda-forge installation of tensorflow.\n",
    "\n",
    "```zsh\n",
    "$ source activate tensorflow\n",
    "(tensorflow)$  # Your prompt should change\n",
    "\n",
    "# Linux/Mac OS X, Python 2.7/3.4/3.5, CPU only:\n",
    "(tensorflow)$ conda install -c conda-forge tensorflow\n",
    "```\n",
    "\n",
    "Then for safety, I installed jupyter and IPython again.\n",
    "```zsh\n",
    "conda install ipython\n",
    "conda install jupyter\n",
    "```\n",
    "\n",
    "### Activating Environment\n",
    "```zsh\n",
    "# activate tesorflow environment\n",
    "source activate tensorflow\n",
    "# deactivate environment\n",
    "source deactivate\n",
    "```\n",
    "\n",
    "### Getting Started\n",
    "\n",
    "While in the activated environment.\n",
    "```zsh\n",
    "# Launch a Jupyter notebook in your current directory\n",
    "jupyter notebook\n",
    "```"
   ]
  },
  {
   "cell_type": "code",
   "execution_count": null,
   "metadata": {
    "collapsed": true
   },
   "outputs": [],
   "source": []
  }
 ],
 "metadata": {
  "anaconda-cloud": {},
  "kernelspec": {
   "display_name": "Python [default]",
   "language": "python",
   "name": "python3"
  },
  "language_info": {
   "codemirror_mode": {
    "name": "ipython",
    "version": 3
   },
   "file_extension": ".py",
   "mimetype": "text/x-python",
   "name": "python",
   "nbconvert_exporter": "python",
   "pygments_lexer": "ipython3",
   "version": "3.5.2"
  }
 },
 "nbformat": 4,
 "nbformat_minor": 1
}
